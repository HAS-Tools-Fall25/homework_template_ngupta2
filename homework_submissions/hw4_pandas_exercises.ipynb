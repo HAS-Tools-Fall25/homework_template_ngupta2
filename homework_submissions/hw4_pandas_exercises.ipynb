{
 "cells": [
  {
   "cell_type": "markdown",
   "metadata": {},
   "source": [
    "# HW4 - Pandas exercises\n",
    "\n",
    "We open with some imports as usual - some of these will be unfamiliar, but bear with me"
   ]
  },
  {
   "cell_type": "code",
   "execution_count": null,
   "metadata": {},
   "outputs": [],
   "source": [
    "import urllib\n",
    "import numpy as np\n",
    "import pandas as pd\n",
    "import matplotlib.pyplot as plt\n",
    "from sklearn.datasets import load_iris\n"
   ]
  },
  {
   "cell_type": "markdown",
   "metadata": {},
   "source": [
    "# Some helpful functions \n",
    "just use these as be and don't worry too much about about them for now, we will learn how they work soon"
   ]
  },
  {
   "cell_type": "code",
   "execution_count": null,
   "metadata": {},
   "outputs": [],
   "source": [
    "# Same data manipulation to get USGS streamflow as\n",
    "# a pandas dataframe as before\n",
    "def create_usgs_url(site_no, begin_date, end_date):\n",
    "    return (\n",
    "        f'https://waterdata.usgs.gov/nwis/dv?'\n",
    "        f'cb_00060=on&format=rdb&referred_module=sw&'\n",
    "        f'site_no={site_no}&'\n",
    "        f'begin_date={begin_date}&'\n",
    "        f'end_date={end_date}'\n",
    "    )\n",
    "\n",
    "def open_usgs_data(site, begin_date, end_date):\n",
    "    url = create_usgs_url((site), begin_date, end_date)\n",
    "    response = urllib.request.urlopen(url)\n",
    "    df = pd.read_table(\n",
    "        response,\n",
    "        comment='#',\n",
    "        skipfooter=1,\n",
    "        delim_whitespace=True,\n",
    "        names=['agency', 'site', 'date', 'streamflow', 'quality_flag'],\n",
    "        index_col=2,\n",
    "        parse_dates=True\n",
    "    ).iloc[2:]\n",
    "\n",
    "    # Now convert the streamflow data to floats and\n",
    "    # the index to datetimes. When processing raw data\n",
    "    # it's common to have to do some extra postprocessing\n",
    "    df['streamflow'] = df['streamflow'].astype(np.float64)\n",
    "    df.index = pd.DatetimeIndex(df.index)\n",
    "    return df\n",
    "\n",
    "def open_daymet_data(lat, lon, begin_date, end_date):\n",
    "    args = {'lat':  lat, 'lon': lon, 'format': 'csv',\n",
    "            'start': begin_date, 'end': end_date}\n",
    "    query = urllib.parse.urlencode(args)\n",
    "    url = f\"https://daymet.ornl.gov/single-pixel/api/data?{query}\"\n",
    "    response = urllib.request.urlopen(url)\n",
    "    df = pd.read_csv(response, header=6)\n",
    "    datestring = (df['year'].astype(str) + df['yday'].astype(str))\n",
    "    dates = pd.to_datetime(datestring, format='%Y%j')\n",
    "    df.index = pd.DatetimeIndex(dates)\n",
    "    return df"
   ]
  },
  {
   "cell_type": "markdown",
   "metadata": {},
   "source": [
    "# Additionally, setting some \"metadata\" - this will become second nature soon"
   ]
  },
  {
   "cell_type": "code",
   "execution_count": null,
   "metadata": {},
   "outputs": [],
   "source": [
    "site = '09506000'\n",
    "begin_date = '1992-09-25'\n",
    "end_date = '2022-09-25'\n",
    "lat = 34.4483605\n",
    "lon = -111.7898705"
   ]
  },
  {
   "cell_type": "markdown",
   "metadata": {},
   "source": [
    "# Now open up some datasets from the above commands, you are almost to your exercises"
   ]
  },
  {
   "cell_type": "code",
   "execution_count": null,
   "metadata": {},
   "outputs": [],
   "source": [
    "verde_df = open_daymet_data(lat, lon, begin_date, end_date)\n",
    "usgs_df = open_usgs_data(site, begin_date, end_date)\n",
    "verde_df = verde_df.reindex(verde_df.index)\n",
    "verde_df['streamflow'] = usgs_df['streamflow']\n",
    "verde_df.head()"
   ]
  },
  {
   "cell_type": "markdown",
   "metadata": {},
   "source": [
    "# 1. How do you see a quick summary of what is in `verde_df`?"
   ]
  },
  {
   "cell_type": "code",
   "execution_count": null,
   "metadata": {},
   "outputs": [],
   "source": [
    "# TODO: your code here"
   ]
  },
  {
   "cell_type": "markdown",
   "metadata": {},
   "source": [
    "# 1. How do you get a listing of the columns in `verde_df`?"
   ]
  },
  {
   "cell_type": "code",
   "execution_count": null,
   "metadata": {},
   "outputs": [],
   "source": [
    "# TODO: your code here"
   ]
  },
  {
   "cell_type": "markdown",
   "metadata": {},
   "source": [
    "# 2. How do you select the streamflow column in `verde_df`?"
   ]
  },
  {
   "cell_type": "code",
   "execution_count": null,
   "metadata": {},
   "outputs": [],
   "source": [
    "# TODO: your code here"
   ]
  },
  {
   "cell_type": "markdown",
   "metadata": {},
   "source": [
    "# 3. How do you plot the streamflow in `verde_df`?"
   ]
  },
  {
   "cell_type": "code",
   "execution_count": null,
   "metadata": {},
   "outputs": [],
   "source": [
    "# TODO: your code here"
   ]
  },
  {
   "cell_type": "markdown",
   "metadata": {},
   "source": [
    "# 5. How do you get the last streamflow value from `verde_df`?"
   ]
  },
  {
   "cell_type": "code",
   "execution_count": null,
   "metadata": {},
   "outputs": [],
   "source": [
    "# TODO: your code here"
   ]
  },
  {
   "cell_type": "markdown",
   "metadata": {},
   "source": [
    "# 4. What is the mean streamflow value for the 30 year period?"
   ]
  },
  {
   "cell_type": "code",
   "execution_count": null,
   "metadata": {},
   "outputs": [],
   "source": [
    "# TODO: your code here"
   ]
  },
  {
   "cell_type": "markdown",
   "metadata": {},
   "source": [
    "# 5. What is the maximum value for the 30 year period?\n"
   ]
  },
  {
   "cell_type": "code",
   "execution_count": null,
   "metadata": {},
   "outputs": [],
   "source": [
    "# TODO: your code here"
   ]
  },
  {
   "cell_type": "markdown",
   "metadata": {},
   "source": [
    "# 6. How do you find the maximum streamflow value for each year?"
   ]
  },
  {
   "cell_type": "code",
   "execution_count": null,
   "metadata": {},
   "outputs": [],
   "source": [
    "# TODO: your code here"
   ]
  },
  {
   "cell_type": "markdown",
   "metadata": {},
   "source": [
    "# 7. How do you make a scatter plot of `dayl (s)` versus `tmax (deg c)`?\n",
    "#### INFO: `dayl` is the day length in seconds and `tmax` is the daily maximum temperature"
   ]
  },
  {
   "cell_type": "code",
   "execution_count": null,
   "metadata": {},
   "outputs": [],
   "source": [
    "# TODO: your code here"
   ]
  },
  {
   "cell_type": "markdown",
   "metadata": {},
   "source": [
    "# 8. How do you calculate (and plot) the mean daily minimum temperature for each day of year?  And plot it?\n",
    "#### INFO: Daily minimum temperature is in the column `tmin (deg c)`"
   ]
  },
  {
   "cell_type": "code",
   "execution_count": null,
   "metadata": {},
   "outputs": [],
   "source": [
    "# TODO: your code here"
   ]
  },
  {
   "cell_type": "markdown",
   "metadata": {},
   "source": [
    "# 11. What is the average value of all columns for October 10 across all years?\n",
    "#### INFO: October 10 is the 283rd day of year"
   ]
  },
  {
   "cell_type": "code",
   "execution_count": null,
   "metadata": {},
   "outputs": [],
   "source": [
    "# TODO: your code here"
   ]
  },
  {
   "cell_type": "markdown",
   "metadata": {},
   "source": [
    "# NEW DATASET : Iris\n",
    "Loading data - here I provide a dataset for you\n",
    "to work with for the first set of exercises\n",
    "\n",
    "The iris dataset is a classic and very easy \n",
    "multi-class classification dataset. It describes\n",
    "measurments of sepal & petal width/length for three\n",
    "different species of iris"
   ]
  },
  {
   "cell_type": "code",
   "execution_count": null,
   "metadata": {},
   "outputs": [],
   "source": [
    "d = load_iris()\n",
    "iris_df = pd.DataFrame(d['data'], columns=d['feature_names'])\n",
    "iris_df.index = pd.Series(\n",
    "    pd.Categorical.from_codes(d.target, d.target_names),\n",
    "    name='species'\n",
    ")\n",
    "iris_df.head()"
   ]
  },
  {
   "cell_type": "markdown",
   "metadata": {},
   "source": [
    "# 12. How do you view the \"unique\" species in the `iris_df` index?\n"
   ]
  },
  {
   "cell_type": "code",
   "execution_count": null,
   "metadata": {},
   "outputs": [],
   "source": [
    "# TODO: your code here"
   ]
  },
  {
   "cell_type": "markdown",
   "metadata": {},
   "source": [
    "# 13. How do you \"locate\" only rows for the `versicolor` species?"
   ]
  },
  {
   "cell_type": "code",
   "execution_count": null,
   "metadata": {},
   "outputs": [],
   "source": [
    "# TODO: your code here"
   ]
  },
  {
   "cell_type": "markdown",
   "metadata": {},
   "source": [
    "# 14. How do you group by the 3 different species and take the mean across the whole dataframe?"
   ]
  },
  {
   "cell_type": "code",
   "execution_count": null,
   "metadata": {},
   "outputs": [],
   "source": [
    "# TODO: your code here"
   ]
  },
  {
   "cell_type": "markdown",
   "metadata": {},
   "source": [
    "# 15. How do you make a scatter plot of the `sepal length (cm)` versus the `petal length (cm)` for the `versicolor`` species?"
   ]
  },
  {
   "cell_type": "code",
   "execution_count": null,
   "metadata": {},
   "outputs": [],
   "source": [
    "# TODO: your code here"
   ]
  },
  {
   "cell_type": "markdown",
   "metadata": {},
   "source": [
    "# BONUS OPTION: \n",
    " Do the same plot for `setosa` and `virginica` all on the same figure. Color them 'tomato', 'darkcyan', and 'darkviolet', respectively.  Worth 1 point extra credit\n"
   ]
  },
  {
   "cell_type": "code",
   "execution_count": null,
   "metadata": {},
   "outputs": [],
   "source": [
    "# TODO: your code here"
   ]
  }
 ],
 "metadata": {
  "language_info": {
   "name": "python"
  }
 },
 "nbformat": 4,
 "nbformat_minor": 2
}
