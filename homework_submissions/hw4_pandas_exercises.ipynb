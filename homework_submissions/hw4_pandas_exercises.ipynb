{
 "cells": [
  {
   "cell_type": "markdown",
   "metadata": {},
   "source": [
    "# HW4 - Pandas exercises\n",
    "\n",
    "We open with some imports as usual - some of these will be unfamiliar, but bear with me"
   ]
  },
  {
   "cell_type": "code",
   "execution_count": 1,
   "metadata": {},
   "outputs": [],
   "source": [
    "import urllib\n",
    "import numpy as np\n",
    "import pandas as pd\n",
    "import matplotlib.pyplot as plt\n",
    "from sklearn.datasets import load_iris\n"
   ]
  },
  {
   "cell_type": "markdown",
   "metadata": {},
   "source": [
    "# Some helpful functions \n",
    "just use these as be and don't worry too much about about them for now, we will learn how they work soon"
   ]
  },
  {
   "cell_type": "code",
   "execution_count": 2,
   "metadata": {},
   "outputs": [],
   "source": [
    "# Same data manipulation to get USGS streamflow as\n",
    "# a pandas dataframe as before\n",
    "def create_usgs_url(site_no, begin_date, end_date):\n",
    "    return (\n",
    "        f'https://waterdata.usgs.gov/nwis/dv?'\n",
    "        f'cb_00060=on&format=rdb&referred_module=sw&'\n",
    "        f'site_no={site_no}&'\n",
    "        f'begin_date={begin_date}&'\n",
    "        f'end_date={end_date}'\n",
    "    )\n",
    "\n",
    "def open_usgs_data(site, begin_date, end_date):\n",
    "    url = create_usgs_url((site), begin_date, end_date)\n",
    "    response = urllib.request.urlopen(url)\n",
    "    df = pd.read_table(\n",
    "        response,\n",
    "        comment='#',\n",
    "        skipfooter=1,\n",
    "        delim_whitespace=True,\n",
    "        names=['agency', 'site', 'date', 'streamflow', 'quality_flag'],\n",
    "        index_col=2,\n",
    "        parse_dates=True\n",
    "    ).iloc[2:]\n",
    "\n",
    "    # Now convert the streamflow data to floats and\n",
    "    # the index to datetimes. When processing raw data\n",
    "    # it's common to have to do some extra postprocessing\n",
    "    df['streamflow'] = df['streamflow'].astype(np.float64)\n",
    "    df.index = pd.DatetimeIndex(df.index)\n",
    "    return df\n",
    "\n",
    "def open_daymet_data(lat, lon, begin_date, end_date):\n",
    "    args = {'lat':  lat, 'lon': lon, 'format': 'csv',\n",
    "            'start': begin_date, 'end': end_date}\n",
    "    query = urllib.parse.urlencode(args)\n",
    "    url = f\"https://daymet.ornl.gov/single-pixel/api/data?{query}\"\n",
    "    response = urllib.request.urlopen(url)\n",
    "    df = pd.read_csv(response, header=6)\n",
    "    datestring = (df['year'].astype(str) + df['yday'].astype(str))\n",
    "    dates = pd.to_datetime(datestring, format='%Y%j')\n",
    "    df.index = pd.DatetimeIndex(dates)\n",
    "    return df"
   ]
  },
  {
   "cell_type": "markdown",
   "metadata": {},
   "source": [
    "# Additionally, setting some \"metadata\" - this will become second nature soon"
   ]
  },
  {
   "cell_type": "code",
   "execution_count": 3,
   "metadata": {},
   "outputs": [],
   "source": [
    "site = '09506000'\n",
    "begin_date = '1992-09-25'\n",
    "end_date = '2022-09-25'\n",
    "lat = 34.4483605\n",
    "lon = -111.7898705"
   ]
  },
  {
   "cell_type": "markdown",
   "metadata": {},
   "source": [
    "# Now open up some datasets from the above commands, you are almost to your exercises"
   ]
  },
  {
   "cell_type": "code",
   "execution_count": 6,
   "metadata": {},
   "outputs": [
    {
     "name": "stderr",
     "output_type": "stream",
     "text": [
      "/tmp/ipykernel_735/3469173433.py:15: FutureWarning: The 'delim_whitespace' keyword in pd.read_table is deprecated and will be removed in a future version. Use ``sep='\\s+'`` instead\n",
      "  df = pd.read_table(\n",
      "/tmp/ipykernel_735/3469173433.py:15: ParserWarning: Falling back to the 'python' engine because the 'c' engine does not support skipfooter; you can avoid this warning by specifying engine='python'.\n",
      "  df = pd.read_table(\n",
      "/tmp/ipykernel_735/3469173433.py:15: UserWarning: Could not infer format, so each element will be parsed individually, falling back to `dateutil`. To ensure parsing is consistent and as-expected, please specify a format.\n",
      "  df = pd.read_table(\n"
     ]
    },
    {
     "data": {
      "text/html": [
       "<div>\n",
       "<style scoped>\n",
       "    .dataframe tbody tr th:only-of-type {\n",
       "        vertical-align: middle;\n",
       "    }\n",
       "\n",
       "    .dataframe tbody tr th {\n",
       "        vertical-align: top;\n",
       "    }\n",
       "\n",
       "    .dataframe thead th {\n",
       "        text-align: right;\n",
       "    }\n",
       "</style>\n",
       "<table border=\"1\" class=\"dataframe\">\n",
       "  <thead>\n",
       "    <tr style=\"text-align: right;\">\n",
       "      <th></th>\n",
       "      <th>year</th>\n",
       "      <th>yday</th>\n",
       "      <th>dayl (s)</th>\n",
       "      <th>prcp (mm/day)</th>\n",
       "      <th>srad (W/m^2)</th>\n",
       "      <th>swe (kg/m^2)</th>\n",
       "      <th>tmax (deg c)</th>\n",
       "      <th>tmin (deg c)</th>\n",
       "      <th>vp (Pa)</th>\n",
       "      <th>streamflow</th>\n",
       "    </tr>\n",
       "  </thead>\n",
       "  <tbody>\n",
       "    <tr>\n",
       "      <th>1992-09-25</th>\n",
       "      <td>1992</td>\n",
       "      <td>269</td>\n",
       "      <td>42469.79</td>\n",
       "      <td>0.0</td>\n",
       "      <td>413.81</td>\n",
       "      <td>0.0</td>\n",
       "      <td>33.57</td>\n",
       "      <td>12.92</td>\n",
       "      <td>1489.09</td>\n",
       "      <td>129.0</td>\n",
       "    </tr>\n",
       "    <tr>\n",
       "      <th>1992-09-26</th>\n",
       "      <td>1992</td>\n",
       "      <td>270</td>\n",
       "      <td>42337.25</td>\n",
       "      <td>0.0</td>\n",
       "      <td>419.69</td>\n",
       "      <td>0.0</td>\n",
       "      <td>34.03</td>\n",
       "      <td>12.61</td>\n",
       "      <td>1459.42</td>\n",
       "      <td>121.0</td>\n",
       "    </tr>\n",
       "    <tr>\n",
       "      <th>1992-09-27</th>\n",
       "      <td>1992</td>\n",
       "      <td>271</td>\n",
       "      <td>42204.86</td>\n",
       "      <td>0.0</td>\n",
       "      <td>436.54</td>\n",
       "      <td>0.0</td>\n",
       "      <td>34.89</td>\n",
       "      <td>11.41</td>\n",
       "      <td>1348.48</td>\n",
       "      <td>122.0</td>\n",
       "    </tr>\n",
       "    <tr>\n",
       "      <th>1992-09-28</th>\n",
       "      <td>1992</td>\n",
       "      <td>272</td>\n",
       "      <td>42072.64</td>\n",
       "      <td>0.0</td>\n",
       "      <td>421.55</td>\n",
       "      <td>0.0</td>\n",
       "      <td>35.44</td>\n",
       "      <td>12.82</td>\n",
       "      <td>1479.16</td>\n",
       "      <td>127.0</td>\n",
       "    </tr>\n",
       "    <tr>\n",
       "      <th>1992-09-29</th>\n",
       "      <td>1992</td>\n",
       "      <td>273</td>\n",
       "      <td>41940.63</td>\n",
       "      <td>0.0</td>\n",
       "      <td>380.67</td>\n",
       "      <td>0.0</td>\n",
       "      <td>33.42</td>\n",
       "      <td>14.18</td>\n",
       "      <td>1616.07</td>\n",
       "      <td>120.0</td>\n",
       "    </tr>\n",
       "  </tbody>\n",
       "</table>\n",
       "</div>"
      ],
      "text/plain": [
       "            year  yday  dayl (s)  prcp (mm/day)  srad (W/m^2)  swe (kg/m^2)  \\\n",
       "1992-09-25  1992   269  42469.79            0.0        413.81           0.0   \n",
       "1992-09-26  1992   270  42337.25            0.0        419.69           0.0   \n",
       "1992-09-27  1992   271  42204.86            0.0        436.54           0.0   \n",
       "1992-09-28  1992   272  42072.64            0.0        421.55           0.0   \n",
       "1992-09-29  1992   273  41940.63            0.0        380.67           0.0   \n",
       "\n",
       "            tmax (deg c)  tmin (deg c)  vp (Pa)  streamflow  \n",
       "1992-09-25         33.57         12.92  1489.09       129.0  \n",
       "1992-09-26         34.03         12.61  1459.42       121.0  \n",
       "1992-09-27         34.89         11.41  1348.48       122.0  \n",
       "1992-09-28         35.44         12.82  1479.16       127.0  \n",
       "1992-09-29         33.42         14.18  1616.07       120.0  "
      ]
     },
     "execution_count": 6,
     "metadata": {},
     "output_type": "execute_result"
    }
   ],
   "source": [
    "verde_df = open_daymet_data(lat, lon, begin_date, end_date)\n",
    "usgs_df = open_usgs_data(site, begin_date, end_date)\n",
    "verde_df = verde_df.reindex(verde_df.index)\n",
    "verde_df['streamflow'] = usgs_df['streamflow']\n",
    "verde_df.head()"
   ]
  },
  {
   "cell_type": "code",
   "execution_count": null,
   "metadata": {},
   "outputs": [],
   "source": []
  },
  {
   "cell_type": "markdown",
   "metadata": {},
   "source": [
    "# 1. How do you see a quick summary of what is in `verde_df`?"
   ]
  },
  {
   "cell_type": "code",
   "execution_count": 7,
   "metadata": {},
   "outputs": [
    {
     "name": "stdout",
     "output_type": "stream",
     "text": [
      "<class 'pandas.core.frame.DataFrame'>\n",
      "DatetimeIndex: 10950 entries, 1992-09-25 to 2022-09-25\n",
      "Data columns (total 10 columns):\n",
      " #   Column         Non-Null Count  Dtype  \n",
      "---  ------         --------------  -----  \n",
      " 0   year           10950 non-null  int64  \n",
      " 1   yday           10950 non-null  int64  \n",
      " 2   dayl (s)       10950 non-null  float64\n",
      " 3   prcp (mm/day)  10950 non-null  float64\n",
      " 4   srad (W/m^2)   10950 non-null  float64\n",
      " 5   swe (kg/m^2)   10950 non-null  float64\n",
      " 6   tmax (deg c)   10950 non-null  float64\n",
      " 7   tmin (deg c)   10950 non-null  float64\n",
      " 8   vp (Pa)        10950 non-null  float64\n",
      " 9   streamflow     10949 non-null  float64\n",
      "dtypes: float64(8), int64(2)\n",
      "memory usage: 941.0 KB\n"
     ]
    },
    {
     "data": {
      "text/plain": [
       "<bound method NDFrame.head of             year  yday  dayl (s)  prcp (mm/day)  srad (W/m^2)  swe (kg/m^2)  \\\n",
       "1992-09-25  1992   269  42469.79           0.00        413.81           0.0   \n",
       "1992-09-26  1992   270  42337.25           0.00        419.69           0.0   \n",
       "1992-09-27  1992   271  42204.86           0.00        436.54           0.0   \n",
       "1992-09-28  1992   272  42072.64           0.00        421.55           0.0   \n",
       "1992-09-29  1992   273  41940.63           0.00        380.67           0.0   \n",
       "...          ...   ...       ...            ...           ...           ...   \n",
       "2022-09-21  2022   264  43133.96          14.28        212.44           0.0   \n",
       "2022-09-22  2022   265  43001.01           2.58        241.74           0.0   \n",
       "2022-09-23  2022   266  42868.10           0.00        369.81           0.0   \n",
       "2022-09-24  2022   267  42735.24           0.00        403.28           0.0   \n",
       "2022-09-25  2022   268  42602.47           0.00        431.18           0.0   \n",
       "\n",
       "            tmax (deg c)  tmin (deg c)  vp (Pa)  streamflow  \n",
       "1992-09-25         33.57         12.92  1489.09       129.0  \n",
       "1992-09-26         34.03         12.61  1459.42       121.0  \n",
       "1992-09-27         34.89         11.41  1348.48       122.0  \n",
       "1992-09-28         35.44         12.82  1479.16       127.0  \n",
       "1992-09-29         33.42         14.18  1616.07       120.0  \n",
       "...                  ...           ...      ...         ...  \n",
       "2022-09-21         29.95         18.13  2079.37       111.0  \n",
       "2022-09-22         31.99         18.00  2063.52       147.0  \n",
       "2022-09-23         33.66         16.86  1902.52       190.0  \n",
       "2022-09-24         34.96         15.67  1690.42       166.0  \n",
       "2022-09-25         34.91         13.44  1417.65         NaN  \n",
       "\n",
       "[10950 rows x 10 columns]>"
      ]
     },
     "execution_count": 7,
     "metadata": {},
     "output_type": "execute_result"
    }
   ],
   "source": [
    "# TODO: your code here\n",
    "verde_df.info()\n",
    "verde_df.head"
   ]
  },
  {
   "cell_type": "markdown",
   "metadata": {},
   "source": [
    "# 1. How do you get a listing of the columns in `verde_df`?"
   ]
  },
  {
   "cell_type": "code",
   "execution_count": 8,
   "metadata": {},
   "outputs": [
    {
     "name": "stdout",
     "output_type": "stream",
     "text": [
      "<class 'pandas.core.frame.DataFrame'>\n",
      "DatetimeIndex: 10950 entries, 1992-09-25 to 2022-09-25\n",
      "Data columns (total 10 columns):\n",
      " #   Column         Non-Null Count  Dtype  \n",
      "---  ------         --------------  -----  \n",
      " 0   year           10950 non-null  int64  \n",
      " 1   yday           10950 non-null  int64  \n",
      " 2   dayl (s)       10950 non-null  float64\n",
      " 3   prcp (mm/day)  10950 non-null  float64\n",
      " 4   srad (W/m^2)   10950 non-null  float64\n",
      " 5   swe (kg/m^2)   10950 non-null  float64\n",
      " 6   tmax (deg c)   10950 non-null  float64\n",
      " 7   tmin (deg c)   10950 non-null  float64\n",
      " 8   vp (Pa)        10950 non-null  float64\n",
      " 9   streamflow     10949 non-null  float64\n",
      "dtypes: float64(8), int64(2)\n",
      "memory usage: 941.0 KB\n"
     ]
    },
    {
     "data": {
      "text/plain": [
       "Index(['year', 'yday', 'dayl (s)', 'prcp (mm/day)', 'srad (W/m^2)',\n",
       "       'swe (kg/m^2)', 'tmax (deg c)', 'tmin (deg c)', 'vp (Pa)',\n",
       "       'streamflow'],\n",
       "      dtype='object')"
      ]
     },
     "execution_count": 8,
     "metadata": {},
     "output_type": "execute_result"
    }
   ],
   "source": [
    "# TODO: your code here\n",
    "verde_df.info()\n",
    "verde_df.columns"
   ]
  },
  {
   "cell_type": "markdown",
   "metadata": {},
   "source": [
    "# 2. How do you select the streamflow column in `verde_df`?"
   ]
  },
  {
   "cell_type": "code",
   "execution_count": 9,
   "metadata": {},
   "outputs": [
    {
     "data": {
      "text/plain": [
       "1992-09-25    129.0\n",
       "1992-09-26    121.0\n",
       "1992-09-27    122.0\n",
       "1992-09-28    127.0\n",
       "1992-09-29    120.0\n",
       "              ...  \n",
       "2022-09-21    111.0\n",
       "2022-09-22    147.0\n",
       "2022-09-23    190.0\n",
       "2022-09-24    166.0\n",
       "2022-09-25      NaN\n",
       "Name: streamflow, Length: 10950, dtype: float64"
      ]
     },
     "execution_count": 9,
     "metadata": {},
     "output_type": "execute_result"
    }
   ],
   "source": [
    "# TODO: your code here\n",
    "verde_df.streamflow"
   ]
  },
  {
   "cell_type": "markdown",
   "metadata": {},
   "source": [
    "# 3. How do you plot the streamflow in `verde_df`?"
   ]
  },
  {
   "cell_type": "code",
   "execution_count": 20,
   "metadata": {},
   "outputs": [
    {
     "data": {
      "text/plain": [
       "Text(0.5, 0, 'Date')"
      ]
     },
     "execution_count": 20,
     "metadata": {},
     "output_type": "execute_result"
    },
    {
     "data": {
      "image/png": "[encoded data removed]",
      "text/plain": [
       "<Figure size 640x480 with 1 Axes>"
      ]
     },
     "metadata": {},
     "output_type": "display_data"
    }
   ],
   "source": [
    "# TODO: your code here\n",
    "verde_df['streamflow'].plot()\n",
    "plt.ylabel('Streamflow (cfs)')\n",
    "plt.xlabel('Date')"
   ]
  },
  {
   "cell_type": "markdown",
   "metadata": {},
   "source": [
    "# 5. How do you get the last streamflow value from `verde_df`?"
   ]
  },
  {
   "cell_type": "code",
   "execution_count": 10,
   "metadata": {},
   "outputs": [
    {
     "data": {
      "text/plain": [
       "nan"
      ]
     },
     "execution_count": 10,
     "metadata": {},
     "output_type": "execute_result"
    }
   ],
   "source": [
    "# TODO: your code here\n",
    "verde_df['streamflow'].iloc[-1].item()"
   ]
  },
  {
   "cell_type": "markdown",
   "metadata": {},
   "source": [
    "# 4. What is the mean streamflow value for the 30 year period?"
   ]
  },
  {
   "cell_type": "code",
   "execution_count": 11,
   "metadata": {},
   "outputs": [
    {
     "data": {
      "text/plain": [
       "336.82214814138274"
      ]
     },
     "execution_count": 11,
     "metadata": {},
     "output_type": "execute_result"
    }
   ],
   "source": [
    "# TODO: your code here\n",
    "verde_df['streamflow'].mean().item()"
   ]
  },
  {
   "cell_type": "markdown",
   "metadata": {},
   "source": [
    "# 5. What is the maximum value for the 30 year period?\n"
   ]
  },
  {
   "cell_type": "code",
   "execution_count": 27,
   "metadata": {},
   "outputs": [
    {
     "data": {
      "text/plain": [
       "63400.0"
      ]
     },
     "execution_count": 27,
     "metadata": {},
     "output_type": "execute_result"
    }
   ],
   "source": [
    "# TODO: your code here\n",
    "verde_df['streamflow'].max().item() "
   ]
  },
  {
   "cell_type": "markdown",
   "metadata": {},
   "source": [
    "# 6. How do you find the maximum streamflow value for each year?"
   ]
  },
  {
   "cell_type": "code",
   "execution_count": 12,
   "metadata": {},
   "outputs": [
    {
     "data": {
      "text/plain": [
       "1992     6600.0\n",
       "1993    63400.0\n",
       "1994     1370.0\n",
       "1995    45500.0\n",
       "1996     1170.0\n",
       "1997     2780.0\n",
       "1998     7090.0\n",
       "1999     5260.0\n",
       "2000     1070.0\n",
       "2001     2000.0\n",
       "2002     1280.0\n",
       "2003     7450.0\n",
       "2004    28700.0\n",
       "2005    35600.0\n",
       "2006     1040.0\n",
       "2007     7210.0\n",
       "2008    11600.0\n",
       "2009     3770.0\n",
       "2010     8020.0\n",
       "2011     1850.0\n",
       "2012     1610.0\n",
       "2013    10400.0\n",
       "2014     2500.0\n",
       "2015    14600.0\n",
       "2016     4760.0\n",
       "2017     5060.0\n",
       "2018     1160.0\n",
       "2019    22200.0\n",
       "2020    13100.0\n",
       "2021     5270.0\n",
       "2022      843.0\n",
       "Name: streamflow, dtype: float64"
      ]
     },
     "execution_count": 12,
     "metadata": {},
     "output_type": "execute_result"
    }
   ],
   "source": [
    "# TODO: your code here\n",
    "verde_df['streamflow'].groupby(verde_df.index.year).max()"
   ]
  },
  {
   "cell_type": "markdown",
   "metadata": {},
   "source": [
    "# 7. How do you make a scatter plot of `dayl (s)` versus `tmax (deg c)`?\n",
    "#### INFO: `dayl` is the day length in seconds and `tmax` is the daily maximum temperature"
   ]
  },
  {
   "cell_type": "code",
   "execution_count": 13,
   "metadata": {},
   "outputs": [
    {
     "data": {
      "text/plain": [
       "Text(0, 0.5, 'Tmax')"
      ]
     },
     "execution_count": 13,
     "metadata": {},
     "output_type": "execute_result"
    },
    {
     "data": {
      "image/png": "[encoded data removed]",
      "text/plain": [
       "<Figure size 640x480 with 1 Axes>"
      ]
     },
     "metadata": {},
     "output_type": "display_data"
    }
   ],
   "source": [
    "# TODO: your code here\n",
    "plt.scatter(verde_df['dayl (s)'], verde_df['tmax (deg c)'])\n",
    "plt.xlabel('Day Length (s)')\n",
    "plt.ylabel('Tmax')"
   ]
  },
  {
   "cell_type": "markdown",
   "metadata": {},
   "source": [
    "# 8. How do you calculate (and plot) the mean daily minimum temperature for each day of year?  And plot it?\n",
    "#### INFO: Daily minimum temperature is in the column `tmin (deg c)`"
   ]
  },
  {
   "cell_type": "code",
   "execution_count": 15,
   "metadata": {},
   "outputs": [
    {
     "data": {
      "image/png": "[encoded data removed]",
      "text/plain": [
       "<Figure size 640x480 with 1 Axes>"
      ]
     },
     "metadata": {},
     "output_type": "display_data"
    }
   ],
   "source": [
    "# TODO: your code here\n",
    "verde_df['tmin (deg c)'].groupby(verde_df.index.day).mean()\n",
    "\n",
    "mean_tmin_by_day = verde_df['tmin (deg c)'].groupby(verde_df.index.dayofyear).mean()\n",
    "mean_tmin_by_day.plot()\n",
    "plt.xlabel('Day of Year')\n",
    "plt.ylabel('Mean Daily Minimum Temperature (°C)')\n",
    "plt.title('Mean Daily Minimum Temperature for Each Day of Year')\n",
    "plt.show()"
   ]
  },
  {
   "cell_type": "markdown",
   "metadata": {},
   "source": [
    "# 11. What is the average value of all columns for October 10 across all years?\n",
    "#### INFO: October 10 is the 283rd day of year"
   ]
  },
  {
   "cell_type": "code",
   "execution_count": 16,
   "metadata": {},
   "outputs": [
    {
     "data": {
      "text/plain": [
       "year              2006.500000\n",
       "yday               283.000000\n",
       "dayl (s)         40636.870000\n",
       "prcp (mm/day)        0.324333\n",
       "srad (W/m^2)       379.125000\n",
       "swe (kg/m^2)         0.000000\n",
       "tmax (deg c)        29.228333\n",
       "tmin (deg c)         8.504000\n",
       "vp (Pa)           1013.050000\n",
       "streamflow         134.160000\n",
       "dtype: float64"
      ]
     },
     "execution_count": 16,
     "metadata": {},
     "output_type": "execute_result"
    }
   ],
   "source": [
    "# TODO: your code here\n",
    "oct_10 = verde_df[verde_df.index.dayofyear == 283]\n",
    "oct_10.mean()"
   ]
  },
  {
   "cell_type": "markdown",
   "metadata": {},
   "source": [
    "# NEW DATASET : Iris\n",
    "Loading data - here I provide a dataset for you\n",
    "to work with for the first set of exercises\n",
    "\n",
    "The iris dataset is a classic and very easy \n",
    "multi-class classification dataset. It describes\n",
    "measurments of sepal & petal width/length for three\n",
    "different species of iris"
   ]
  },
  {
   "cell_type": "code",
   "execution_count": 17,
   "metadata": {},
   "outputs": [
    {
     "data": {
      "text/html": [
       "<div>\n",
       "<style scoped>\n",
       "    .dataframe tbody tr th:only-of-type {\n",
       "        vertical-align: middle;\n",
       "    }\n",
       "\n",
       "    .dataframe tbody tr th {\n",
       "        vertical-align: top;\n",
       "    }\n",
       "\n",
       "    .dataframe thead th {\n",
       "        text-align: right;\n",
       "    }\n",
       "</style>\n",
       "<table border=\"1\" class=\"dataframe\">\n",
       "  <thead>\n",
       "    <tr style=\"text-align: right;\">\n",
       "      <th></th>\n",
       "      <th>sepal length (cm)</th>\n",
       "      <th>sepal width (cm)</th>\n",
       "      <th>petal length (cm)</th>\n",
       "      <th>petal width (cm)</th>\n",
       "    </tr>\n",
       "    <tr>\n",
       "      <th>species</th>\n",
       "      <th></th>\n",
       "      <th></th>\n",
       "      <th></th>\n",
       "      <th></th>\n",
       "    </tr>\n",
       "  </thead>\n",
       "  <tbody>\n",
       "    <tr>\n",
       "      <th>setosa</th>\n",
       "      <td>5.1</td>\n",
       "      <td>3.5</td>\n",
       "      <td>1.4</td>\n",
       "      <td>0.2</td>\n",
       "    </tr>\n",
       "    <tr>\n",
       "      <th>setosa</th>\n",
       "      <td>4.9</td>\n",
       "      <td>3.0</td>\n",
       "      <td>1.4</td>\n",
       "      <td>0.2</td>\n",
       "    </tr>\n",
       "    <tr>\n",
       "      <th>setosa</th>\n",
       "      <td>4.7</td>\n",
       "      <td>3.2</td>\n",
       "      <td>1.3</td>\n",
       "      <td>0.2</td>\n",
       "    </tr>\n",
       "    <tr>\n",
       "      <th>setosa</th>\n",
       "      <td>4.6</td>\n",
       "      <td>3.1</td>\n",
       "      <td>1.5</td>\n",
       "      <td>0.2</td>\n",
       "    </tr>\n",
       "    <tr>\n",
       "      <th>setosa</th>\n",
       "      <td>5.0</td>\n",
       "      <td>3.6</td>\n",
       "      <td>1.4</td>\n",
       "      <td>0.2</td>\n",
       "    </tr>\n",
       "  </tbody>\n",
       "</table>\n",
       "</div>"
      ],
      "text/plain": [
       "         sepal length (cm)  sepal width (cm)  petal length (cm)  \\\n",
       "species                                                           \n",
       "setosa                 5.1               3.5                1.4   \n",
       "setosa                 4.9               3.0                1.4   \n",
       "setosa                 4.7               3.2                1.3   \n",
       "setosa                 4.6               3.1                1.5   \n",
       "setosa                 5.0               3.6                1.4   \n",
       "\n",
       "         petal width (cm)  \n",
       "species                    \n",
       "setosa                0.2  \n",
       "setosa                0.2  \n",
       "setosa                0.2  \n",
       "setosa                0.2  \n",
       "setosa                0.2  "
      ]
     },
     "execution_count": 17,
     "metadata": {},
     "output_type": "execute_result"
    }
   ],
   "source": [
    "d = load_iris()\n",
    "iris_df = pd.DataFrame(d['data'], columns=d['feature_names'])\n",
    "iris_df.index = pd.Series(\n",
    "    pd.Categorical.from_codes(d.target, d.target_names),\n",
    "    name='species'\n",
    ")\n",
    "iris_df.head()"
   ]
  },
  {
   "cell_type": "markdown",
   "metadata": {},
   "source": [
    "# 12. How do you view the \"unique\" species in the `iris_df` index?\n"
   ]
  },
  {
   "cell_type": "code",
   "execution_count": 21,
   "metadata": {},
   "outputs": [
    {
     "data": {
      "text/plain": [
       "CategoricalIndex(['setosa', 'versicolor', 'virginica'], categories=['setosa', 'versicolor', 'virginica'], ordered=False, dtype='category', name='species')"
      ]
     },
     "execution_count": 21,
     "metadata": {},
     "output_type": "execute_result"
    }
   ],
   "source": [
    "# TODO: your code here\n",
    "iris_df.index.unique()\n",
    "#iris_df['species'].unique()"
   ]
  },
  {
   "cell_type": "markdown",
   "metadata": {},
   "source": [
    "# 13. How do you \"locate\" only rows for the `versicolor` species?"
   ]
  },
  {
   "cell_type": "code",
   "execution_count": 22,
   "metadata": {},
   "outputs": [
    {
     "data": {
      "text/html": [
       "<div>\n",
       "<style scoped>\n",
       "    .dataframe tbody tr th:only-of-type {\n",
       "        vertical-align: middle;\n",
       "    }\n",
       "\n",
       "    .dataframe tbody tr th {\n",
       "        vertical-align: top;\n",
       "    }\n",
       "\n",
       "    .dataframe thead th {\n",
       "        text-align: right;\n",
       "    }\n",
       "</style>\n",
       "<table border=\"1\" class=\"dataframe\">\n",
       "  <thead>\n",
       "    <tr style=\"text-align: right;\">\n",
       "      <th></th>\n",
       "      <th>sepal length (cm)</th>\n",
       "      <th>sepal width (cm)</th>\n",
       "      <th>petal length (cm)</th>\n",
       "      <th>petal width (cm)</th>\n",
       "    </tr>\n",
       "    <tr>\n",
       "      <th>species</th>\n",
       "      <th></th>\n",
       "      <th></th>\n",
       "      <th></th>\n",
       "      <th></th>\n",
       "    </tr>\n",
       "  </thead>\n",
       "  <tbody>\n",
       "    <tr>\n",
       "      <th>versicolor</th>\n",
       "      <td>7.0</td>\n",
       "      <td>3.2</td>\n",
       "      <td>4.7</td>\n",
       "      <td>1.4</td>\n",
       "    </tr>\n",
       "    <tr>\n",
       "      <th>versicolor</th>\n",
       "      <td>6.4</td>\n",
       "      <td>3.2</td>\n",
       "      <td>4.5</td>\n",
       "      <td>1.5</td>\n",
       "    </tr>\n",
       "    <tr>\n",
       "      <th>versicolor</th>\n",
       "      <td>6.9</td>\n",
       "      <td>3.1</td>\n",
       "      <td>4.9</td>\n",
       "      <td>1.5</td>\n",
       "    </tr>\n",
       "    <tr>\n",
       "      <th>versicolor</th>\n",
       "      <td>5.5</td>\n",
       "      <td>2.3</td>\n",
       "      <td>4.0</td>\n",
       "      <td>1.3</td>\n",
       "    </tr>\n",
       "    <tr>\n",
       "      <th>versicolor</th>\n",
       "      <td>6.5</td>\n",
       "      <td>2.8</td>\n",
       "      <td>4.6</td>\n",
       "      <td>1.5</td>\n",
       "    </tr>\n",
       "    <tr>\n",
       "      <th>versicolor</th>\n",
       "      <td>5.7</td>\n",
       "      <td>2.8</td>\n",
       "      <td>4.5</td>\n",
       "      <td>1.3</td>\n",
       "    </tr>\n",
       "    <tr>\n",
       "      <th>versicolor</th>\n",
       "      <td>6.3</td>\n",
       "      <td>3.3</td>\n",
       "      <td>4.7</td>\n",
       "      <td>1.6</td>\n",
       "    </tr>\n",
       "    <tr>\n",
       "      <th>versicolor</th>\n",
       "      <td>4.9</td>\n",
       "      <td>2.4</td>\n",
       "      <td>3.3</td>\n",
       "      <td>1.0</td>\n",
       "    </tr>\n",
       "    <tr>\n",
       "      <th>versicolor</th>\n",
       "      <td>6.6</td>\n",
       "      <td>2.9</td>\n",
       "      <td>4.6</td>\n",
       "      <td>1.3</td>\n",
       "    </tr>\n",
       "    <tr>\n",
       "      <th>versicolor</th>\n",
       "      <td>5.2</td>\n",
       "      <td>2.7</td>\n",
       "      <td>3.9</td>\n",
       "      <td>1.4</td>\n",
       "    </tr>\n",
       "    <tr>\n",
       "      <th>versicolor</th>\n",
       "      <td>5.0</td>\n",
       "      <td>2.0</td>\n",
       "      <td>3.5</td>\n",
       "      <td>1.0</td>\n",
       "    </tr>\n",
       "    <tr>\n",
       "      <th>versicolor</th>\n",
       "      <td>5.9</td>\n",
       "      <td>3.0</td>\n",
       "      <td>4.2</td>\n",
       "      <td>1.5</td>\n",
       "    </tr>\n",
       "    <tr>\n",
       "      <th>versicolor</th>\n",
       "      <td>6.0</td>\n",
       "      <td>2.2</td>\n",
       "      <td>4.0</td>\n",
       "      <td>1.0</td>\n",
       "    </tr>\n",
       "    <tr>\n",
       "      <th>versicolor</th>\n",
       "      <td>6.1</td>\n",
       "      <td>2.9</td>\n",
       "      <td>4.7</td>\n",
       "      <td>1.4</td>\n",
       "    </tr>\n",
       "    <tr>\n",
       "      <th>versicolor</th>\n",
       "      <td>5.6</td>\n",
       "      <td>2.9</td>\n",
       "      <td>3.6</td>\n",
       "      <td>1.3</td>\n",
       "    </tr>\n",
       "    <tr>\n",
       "      <th>versicolor</th>\n",
       "      <td>6.7</td>\n",
       "      <td>3.1</td>\n",
       "      <td>4.4</td>\n",
       "      <td>1.4</td>\n",
       "    </tr>\n",
       "    <tr>\n",
       "      <th>versicolor</th>\n",
       "      <td>5.6</td>\n",
       "      <td>3.0</td>\n",
       "      <td>4.5</td>\n",
       "      <td>1.5</td>\n",
       "    </tr>\n",
       "    <tr>\n",
       "      <th>versicolor</th>\n",
       "      <td>5.8</td>\n",
       "      <td>2.7</td>\n",
       "      <td>4.1</td>\n",
       "      <td>1.0</td>\n",
       "    </tr>\n",
       "    <tr>\n",
       "      <th>versicolor</th>\n",
       "      <td>6.2</td>\n",
       "      <td>2.2</td>\n",
       "      <td>4.5</td>\n",
       "      <td>1.5</td>\n",
       "    </tr>\n",
       "    <tr>\n",
       "      <th>versicolor</th>\n",
       "      <td>5.6</td>\n",
       "      <td>2.5</td>\n",
       "      <td>3.9</td>\n",
       "      <td>1.1</td>\n",
       "    </tr>\n",
       "    <tr>\n",
       "      <th>versicolor</th>\n",
       "      <td>5.9</td>\n",
       "      <td>3.2</td>\n",
       "      <td>4.8</td>\n",
       "      <td>1.8</td>\n",
       "    </tr>\n",
       "    <tr>\n",
       "      <th>versicolor</th>\n",
       "      <td>6.1</td>\n",
       "      <td>2.8</td>\n",
       "      <td>4.0</td>\n",
       "      <td>1.3</td>\n",
       "    </tr>\n",
       "    <tr>\n",
       "      <th>versicolor</th>\n",
       "      <td>6.3</td>\n",
       "      <td>2.5</td>\n",
       "      <td>4.9</td>\n",
       "      <td>1.5</td>\n",
       "    </tr>\n",
       "    <tr>\n",
       "      <th>versicolor</th>\n",
       "      <td>6.1</td>\n",
       "      <td>2.8</td>\n",
       "      <td>4.7</td>\n",
       "      <td>1.2</td>\n",
       "    </tr>\n",
       "    <tr>\n",
       "      <th>versicolor</th>\n",
       "      <td>6.4</td>\n",
       "      <td>2.9</td>\n",
       "      <td>4.3</td>\n",
       "      <td>1.3</td>\n",
       "    </tr>\n",
       "    <tr>\n",
       "      <th>versicolor</th>\n",
       "      <td>6.6</td>\n",
       "      <td>3.0</td>\n",
       "      <td>4.4</td>\n",
       "      <td>1.4</td>\n",
       "    </tr>\n",
       "    <tr>\n",
       "      <th>versicolor</th>\n",
       "      <td>6.8</td>\n",
       "      <td>2.8</td>\n",
       "      <td>4.8</td>\n",
       "      <td>1.4</td>\n",
       "    </tr>\n",
       "    <tr>\n",
       "      <th>versicolor</th>\n",
       "      <td>6.7</td>\n",
       "      <td>3.0</td>\n",
       "      <td>5.0</td>\n",
       "      <td>1.7</td>\n",
       "    </tr>\n",
       "    <tr>\n",
       "      <th>versicolor</th>\n",
       "      <td>6.0</td>\n",
       "      <td>2.9</td>\n",
       "      <td>4.5</td>\n",
       "      <td>1.5</td>\n",
       "    </tr>\n",
       "    <tr>\n",
       "      <th>versicolor</th>\n",
       "      <td>5.7</td>\n",
       "      <td>2.6</td>\n",
       "      <td>3.5</td>\n",
       "      <td>1.0</td>\n",
       "    </tr>\n",
       "    <tr>\n",
       "      <th>versicolor</th>\n",
       "      <td>5.5</td>\n",
       "      <td>2.4</td>\n",
       "      <td>3.8</td>\n",
       "      <td>1.1</td>\n",
       "    </tr>\n",
       "    <tr>\n",
       "      <th>versicolor</th>\n",
       "      <td>5.5</td>\n",
       "      <td>2.4</td>\n",
       "      <td>3.7</td>\n",
       "      <td>1.0</td>\n",
       "    </tr>\n",
       "    <tr>\n",
       "      <th>versicolor</th>\n",
       "      <td>5.8</td>\n",
       "      <td>2.7</td>\n",
       "      <td>3.9</td>\n",
       "      <td>1.2</td>\n",
       "    </tr>\n",
       "    <tr>\n",
       "      <th>versicolor</th>\n",
       "      <td>6.0</td>\n",
       "      <td>2.7</td>\n",
       "      <td>5.1</td>\n",
       "      <td>1.6</td>\n",
       "    </tr>\n",
       "    <tr>\n",
       "      <th>versicolor</th>\n",
       "      <td>5.4</td>\n",
       "      <td>3.0</td>\n",
       "      <td>4.5</td>\n",
       "      <td>1.5</td>\n",
       "    </tr>\n",
       "    <tr>\n",
       "      <th>versicolor</th>\n",
       "      <td>6.0</td>\n",
       "      <td>3.4</td>\n",
       "      <td>4.5</td>\n",
       "      <td>1.6</td>\n",
       "    </tr>\n",
       "    <tr>\n",
       "      <th>versicolor</th>\n",
       "      <td>6.7</td>\n",
       "      <td>3.1</td>\n",
       "      <td>4.7</td>\n",
       "      <td>1.5</td>\n",
       "    </tr>\n",
       "    <tr>\n",
       "      <th>versicolor</th>\n",
       "      <td>6.3</td>\n",
       "      <td>2.3</td>\n",
       "      <td>4.4</td>\n",
       "      <td>1.3</td>\n",
       "    </tr>\n",
       "    <tr>\n",
       "      <th>versicolor</th>\n",
       "      <td>5.6</td>\n",
       "      <td>3.0</td>\n",
       "      <td>4.1</td>\n",
       "      <td>1.3</td>\n",
       "    </tr>\n",
       "    <tr>\n",
       "      <th>versicolor</th>\n",
       "      <td>5.5</td>\n",
       "      <td>2.5</td>\n",
       "      <td>4.0</td>\n",
       "      <td>1.3</td>\n",
       "    </tr>\n",
       "    <tr>\n",
       "      <th>versicolor</th>\n",
       "      <td>5.5</td>\n",
       "      <td>2.6</td>\n",
       "      <td>4.4</td>\n",
       "      <td>1.2</td>\n",
       "    </tr>\n",
       "    <tr>\n",
       "      <th>versicolor</th>\n",
       "      <td>6.1</td>\n",
       "      <td>3.0</td>\n",
       "      <td>4.6</td>\n",
       "      <td>1.4</td>\n",
       "    </tr>\n",
       "    <tr>\n",
       "      <th>versicolor</th>\n",
       "      <td>5.8</td>\n",
       "      <td>2.6</td>\n",
       "      <td>4.0</td>\n",
       "      <td>1.2</td>\n",
       "    </tr>\n",
       "    <tr>\n",
       "      <th>versicolor</th>\n",
       "      <td>5.0</td>\n",
       "      <td>2.3</td>\n",
       "      <td>3.3</td>\n",
       "      <td>1.0</td>\n",
       "    </tr>\n",
       "    <tr>\n",
       "      <th>versicolor</th>\n",
       "      <td>5.6</td>\n",
       "      <td>2.7</td>\n",
       "      <td>4.2</td>\n",
       "      <td>1.3</td>\n",
       "    </tr>\n",
       "    <tr>\n",
       "      <th>versicolor</th>\n",
       "      <td>5.7</td>\n",
       "      <td>3.0</td>\n",
       "      <td>4.2</td>\n",
       "      <td>1.2</td>\n",
       "    </tr>\n",
       "    <tr>\n",
       "      <th>versicolor</th>\n",
       "      <td>5.7</td>\n",
       "      <td>2.9</td>\n",
       "      <td>4.2</td>\n",
       "      <td>1.3</td>\n",
       "    </tr>\n",
       "    <tr>\n",
       "      <th>versicolor</th>\n",
       "      <td>6.2</td>\n",
       "      <td>2.9</td>\n",
       "      <td>4.3</td>\n",
       "      <td>1.3</td>\n",
       "    </tr>\n",
       "    <tr>\n",
       "      <th>versicolor</th>\n",
       "      <td>5.1</td>\n",
       "      <td>2.5</td>\n",
       "      <td>3.0</td>\n",
       "      <td>1.1</td>\n",
       "    </tr>\n",
       "    <tr>\n",
       "      <th>versicolor</th>\n",
       "      <td>5.7</td>\n",
       "      <td>2.8</td>\n",
       "      <td>4.1</td>\n",
       "      <td>1.3</td>\n",
       "    </tr>\n",
       "  </tbody>\n",
       "</table>\n",
       "</div>"
      ],
      "text/plain": [
       "            sepal length (cm)  sepal width (cm)  petal length (cm)  \\\n",
       "species                                                              \n",
       "versicolor                7.0               3.2                4.7   \n",
       "versicolor                6.4               3.2                4.5   \n",
       "versicolor                6.9               3.1                4.9   \n",
       "versicolor                5.5               2.3                4.0   \n",
       "versicolor                6.5               2.8                4.6   \n",
       "versicolor                5.7               2.8                4.5   \n",
       "versicolor                6.3               3.3                4.7   \n",
       "versicolor                4.9               2.4                3.3   \n",
       "versicolor                6.6               2.9                4.6   \n",
       "versicolor                5.2               2.7                3.9   \n",
       "versicolor                5.0               2.0                3.5   \n",
       "versicolor                5.9               3.0                4.2   \n",
       "versicolor                6.0               2.2                4.0   \n",
       "versicolor                6.1               2.9                4.7   \n",
       "versicolor                5.6               2.9                3.6   \n",
       "versicolor                6.7               3.1                4.4   \n",
       "versicolor                5.6               3.0                4.5   \n",
       "versicolor                5.8               2.7                4.1   \n",
       "versicolor                6.2               2.2                4.5   \n",
       "versicolor                5.6               2.5                3.9   \n",
       "versicolor                5.9               3.2                4.8   \n",
       "versicolor                6.1               2.8                4.0   \n",
       "versicolor                6.3               2.5                4.9   \n",
       "versicolor                6.1               2.8                4.7   \n",
       "versicolor                6.4               2.9                4.3   \n",
       "versicolor                6.6               3.0                4.4   \n",
       "versicolor                6.8               2.8                4.8   \n",
       "versicolor                6.7               3.0                5.0   \n",
       "versicolor                6.0               2.9                4.5   \n",
       "versicolor                5.7               2.6                3.5   \n",
       "versicolor                5.5               2.4                3.8   \n",
       "versicolor                5.5               2.4                3.7   \n",
       "versicolor                5.8               2.7                3.9   \n",
       "versicolor                6.0               2.7                5.1   \n",
       "versicolor                5.4               3.0                4.5   \n",
       "versicolor                6.0               3.4                4.5   \n",
       "versicolor                6.7               3.1                4.7   \n",
       "versicolor                6.3               2.3                4.4   \n",
       "versicolor                5.6               3.0                4.1   \n",
       "versicolor                5.5               2.5                4.0   \n",
       "versicolor                5.5               2.6                4.4   \n",
       "versicolor                6.1               3.0                4.6   \n",
       "versicolor                5.8               2.6                4.0   \n",
       "versicolor                5.0               2.3                3.3   \n",
       "versicolor                5.6               2.7                4.2   \n",
       "versicolor                5.7               3.0                4.2   \n",
       "versicolor                5.7               2.9                4.2   \n",
       "versicolor                6.2               2.9                4.3   \n",
       "versicolor                5.1               2.5                3.0   \n",
       "versicolor                5.7               2.8                4.1   \n",
       "\n",
       "            petal width (cm)  \n",
       "species                       \n",
       "versicolor               1.4  \n",
       "versicolor               1.5  \n",
       "versicolor               1.5  \n",
       "versicolor               1.3  \n",
       "versicolor               1.5  \n",
       "versicolor               1.3  \n",
       "versicolor               1.6  \n",
       "versicolor               1.0  \n",
       "versicolor               1.3  \n",
       "versicolor               1.4  \n",
       "versicolor               1.0  \n",
       "versicolor               1.5  \n",
       "versicolor               1.0  \n",
       "versicolor               1.4  \n",
       "versicolor               1.3  \n",
       "versicolor               1.4  \n",
       "versicolor               1.5  \n",
       "versicolor               1.0  \n",
       "versicolor               1.5  \n",
       "versicolor               1.1  \n",
       "versicolor               1.8  \n",
       "versicolor               1.3  \n",
       "versicolor               1.5  \n",
       "versicolor               1.2  \n",
       "versicolor               1.3  \n",
       "versicolor               1.4  \n",
       "versicolor               1.4  \n",
       "versicolor               1.7  \n",
       "versicolor               1.5  \n",
       "versicolor               1.0  \n",
       "versicolor               1.1  \n",
       "versicolor               1.0  \n",
       "versicolor               1.2  \n",
       "versicolor               1.6  \n",
       "versicolor               1.5  \n",
       "versicolor               1.6  \n",
       "versicolor               1.5  \n",
       "versicolor               1.3  \n",
       "versicolor               1.3  \n",
       "versicolor               1.3  \n",
       "versicolor               1.2  \n",
       "versicolor               1.4  \n",
       "versicolor               1.2  \n",
       "versicolor               1.0  \n",
       "versicolor               1.3  \n",
       "versicolor               1.2  \n",
       "versicolor               1.3  \n",
       "versicolor               1.3  \n",
       "versicolor               1.1  \n",
       "versicolor               1.3  "
      ]
     },
     "execution_count": 22,
     "metadata": {},
     "output_type": "execute_result"
    }
   ],
   "source": [
    "# TODO: your code here\n",
    "iris_df.loc[\"versicolor\"]"
   ]
  },
  {
   "cell_type": "markdown",
   "metadata": {},
   "source": [
    "# 14. How do you group by the 3 different species and take the mean across the whole dataframe?"
   ]
  },
  {
   "cell_type": "code",
   "execution_count": 26,
   "metadata": {},
   "outputs": [
    {
     "name": "stderr",
     "output_type": "stream",
     "text": [
      "/tmp/ipykernel_735/338027754.py:2: FutureWarning: The default of observed=False is deprecated and will be changed to True in a future version of pandas. Pass observed=False to retain current behavior or observed=True to adopt the future default and silence this warning.\n",
      "  iris_df.groupby(iris_df.index).mean()\n"
     ]
    },
    {
     "data": {
      "text/html": [
       "<div>\n",
       "<style scoped>\n",
       "    .dataframe tbody tr th:only-of-type {\n",
       "        vertical-align: middle;\n",
       "    }\n",
       "\n",
       "    .dataframe tbody tr th {\n",
       "        vertical-align: top;\n",
       "    }\n",
       "\n",
       "    .dataframe thead th {\n",
       "        text-align: right;\n",
       "    }\n",
       "</style>\n",
       "<table border=\"1\" class=\"dataframe\">\n",
       "  <thead>\n",
       "    <tr style=\"text-align: right;\">\n",
       "      <th></th>\n",
       "      <th>sepal length (cm)</th>\n",
       "      <th>sepal width (cm)</th>\n",
       "      <th>petal length (cm)</th>\n",
       "      <th>petal width (cm)</th>\n",
       "    </tr>\n",
       "    <tr>\n",
       "      <th>species</th>\n",
       "      <th></th>\n",
       "      <th></th>\n",
       "      <th></th>\n",
       "      <th></th>\n",
       "    </tr>\n",
       "  </thead>\n",
       "  <tbody>\n",
       "    <tr>\n",
       "      <th>setosa</th>\n",
       "      <td>5.006</td>\n",
       "      <td>3.428</td>\n",
       "      <td>1.462</td>\n",
       "      <td>0.246</td>\n",
       "    </tr>\n",
       "    <tr>\n",
       "      <th>versicolor</th>\n",
       "      <td>5.936</td>\n",
       "      <td>2.770</td>\n",
       "      <td>4.260</td>\n",
       "      <td>1.326</td>\n",
       "    </tr>\n",
       "    <tr>\n",
       "      <th>virginica</th>\n",
       "      <td>6.588</td>\n",
       "      <td>2.974</td>\n",
       "      <td>5.552</td>\n",
       "      <td>2.026</td>\n",
       "    </tr>\n",
       "  </tbody>\n",
       "</table>\n",
       "</div>"
      ],
      "text/plain": [
       "            sepal length (cm)  sepal width (cm)  petal length (cm)  \\\n",
       "species                                                              \n",
       "setosa                  5.006             3.428              1.462   \n",
       "versicolor              5.936             2.770              4.260   \n",
       "virginica               6.588             2.974              5.552   \n",
       "\n",
       "            petal width (cm)  \n",
       "species                       \n",
       "setosa                 0.246  \n",
       "versicolor             1.326  \n",
       "virginica              2.026  "
      ]
     },
     "execution_count": 26,
     "metadata": {},
     "output_type": "execute_result"
    }
   ],
   "source": [
    "# TODO: your code here\n",
    "iris_df.groupby(iris_df.index).mean()\n",
    "#iris_df.groupby(\"species\").mean()"
   ]
  },
  {
   "cell_type": "markdown",
   "metadata": {},
   "source": [
    "# 15. How do you make a scatter plot of the `sepal length (cm)` versus the `petal length (cm)` for the `versicolor`` species?"
   ]
  },
  {
   "cell_type": "code",
   "execution_count": 29,
   "metadata": {},
   "outputs": [
    {
     "data": {
      "image/png": "[encoded data removed]",
      "text/plain": [
       "<Figure size 640x480 with 1 Axes>"
      ]
     },
     "metadata": {},
     "output_type": "display_data"
    }
   ],
   "source": [
    "# TODO: your code here\n",
    "versicolor_df = iris_df.loc[\"versicolor\"]\n",
    "plt.scatter(versicolor_df['sepal length (cm)'], versicolor_df[\"petal length (cm)\"])\n",
    "plt.xlabel(\"Sepal Length\")\n",
    "plt.ylabel(\"Petal Length\")\n",
    "plt.title(\"Versicolor: Sepal Length vs Petal Length\")\n",
    "plt.show()"
   ]
  },
  {
   "cell_type": "markdown",
   "metadata": {},
   "source": [
    "# BONUS OPTION: \n",
    " Do the same plot for `setosa` and `virginica` all on the same figure. Color them 'tomato', 'darkcyan', and 'darkviolet', respectively.  Worth 1 point extra credit\n"
   ]
  },
  {
   "cell_type": "code",
   "execution_count": 31,
   "metadata": {},
   "outputs": [
    {
     "data": {
      "image/png": "[encoded data removed]",
      "text/plain": [
       "<Figure size 800x600 with 1 Axes>"
      ]
     },
     "metadata": {},
     "output_type": "display_data"
    }
   ],
   "source": [
    "# TODO: your code here\n",
    "# List of species and corresponding colors\n",
    "species_list = [\"setosa\", \"versicolor\", \"virginica\"]\n",
    "colors = [\"tomato\", \"darkcyan\", \"darkviolet\"]\n",
    "\n",
    "plt.figure(figsize=(8,6))\n",
    "\n",
    "for sp, color in zip(species_list, colors):\n",
    "    # Filter rows for this species\n",
    "    if \"species\" in iris_df.columns:\n",
    "        df_sp = iris_df[iris_df[\"species\"] == sp]\n",
    "    else:  # species in index\n",
    "        df_sp = iris_df.loc[sp]\n",
    "    \n",
    "    plt.scatter(df_sp['sepal length (cm)'], df_sp['petal length (cm)'], \n",
    "                label=sp, color=color)\n",
    "\n",
    "plt.xlabel(\"Sepal Length\")\n",
    "plt.ylabel(\"Petal Length\")\n",
    "plt.title(\"Sepal Length vs Petal Length by Species\")\n",
    "plt.legend()\n",
    "plt.show()"
   ]
  }
 ],
 "metadata": {
  "kernelspec": {
   "display_name": "has-tools",
   "language": "python",
   "name": "python3"
  },
  "language_info": {
   "codemirror_mode": {
    "name": "ipython",
    "version": 3
   },
   "file_extension": ".py",
   "mimetype": "text/x-python",
   "name": "python",
   "nbconvert_exporter": "python",
   "pygments_lexer": "ipython3",
   "version": "3.11.13"
  }
 },
 "nbformat": 4,
 "nbformat_minor": 2
}
