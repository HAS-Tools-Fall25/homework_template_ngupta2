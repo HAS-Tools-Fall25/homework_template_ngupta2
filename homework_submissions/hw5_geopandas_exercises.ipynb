{
 "cells": [
  {
   "cell_type": "markdown",
   "metadata": {},
   "source": [
    "# Welcome to the geopandas homework! \n",
    "In this homework you will learn more about how to use geopandas to work with geospatial data."
   ]
  },
  {
   "cell_type": "code",
   "execution_count": null,
   "metadata": {},
   "outputs": [],
   "source": [
    "import urllib\n",
    "import numpy as np\n",
    "import pandas as pd\n",
    "import geopandas as gpd\n",
    "import matplotlib.pyplot as plt"
   ]
  },
  {
   "cell_type": "markdown",
   "metadata": {},
   "source": [
    "\n",
    "### Some setup\n",
    "NOTE: Here we are just  pulling in data from GitHub directly\n",
    "This can be done by specifying the url to the shapefile, but\n",
    "prepending it with `/vsicurl`\n"
   ]
  },
  {
   "cell_type": "code",
   "execution_count": null,
   "metadata": {},
   "outputs": [],
   "source": [
    "az = gpd.read_file(\n",
    "    '../data/arizona_shapefile/tl_2016_04_cousub.shp'\n",
    ")\n",
    "gages = gpd.read_file(\n",
    "    '../data/gagesii_shapefile/gagesII_9322_sept30_2011.shp'\n",
    ")\n",
    "huc8 = gpd.read_file(\n",
    "    '../data/arizona_huc8_shapefile/WBDHU8.shp'\n",
    ")"
   ]
  },
  {
   "cell_type": "markdown",
   "metadata": {},
   "source": [
    "# Step 1: \n",
    "Put the `gages` geodataframe onto the same CRS as the `az` geodataframe"
   ]
  },
  {
   "cell_type": "code",
   "execution_count": null,
   "metadata": {},
   "outputs": [],
   "source": [
    "# TODO: Your code here"
   ]
  },
  {
   "cell_type": "markdown",
   "metadata": {},
   "source": [
    "# Step 2: \n",
    "The various polygons in the Arizona shapefile\n",
    "are just census designated boundaries, and don't really\n",
    "mean anything as far as the hydrology of Arizona. So,\n",
    "let's get rid of them. In GIS-language this is called\n",
    "\"dissolving\" the polygons. \n",
    "\n",
    "Your task here is to make the `az` variable be a \n",
    "geodataframe with only a single geometry.\n"
   ]
  },
  {
   "cell_type": "code",
   "execution_count": null,
   "metadata": {},
   "outputs": [],
   "source": [
    "# TODO: Your code here"
   ]
  },
  {
   "cell_type": "markdown",
   "metadata": {},
   "source": [
    "# Step 3: \n",
    "Pull out only the gages in Arizona from \n",
    "the `gages` dataset, save this as `az_gages`\n",
    "In GIS-language this is called \"clipping\" \n"
   ]
  },
  {
   "cell_type": "code",
   "execution_count": null,
   "metadata": {},
   "outputs": [],
   "source": [
    "# TODO: Your code here\n",
    "az_gages = None"
   ]
  },
  {
   "cell_type": "markdown",
   "metadata": {},
   "source": [
    "# Step 4: \n",
    "Make a plot showing Arizona in \"lightgrey\"\n",
    "and the locations of the gages in Arizona plotted as\n",
    "\"crimson\" colored points.\n",
    "\n",
    "NOTE: Calling `.plot` on a geodataframe will return \n",
    "      a new axis object which can be passed to \n",
    "      subsequent plot commands \n",
    "\n",
    "NOTE: You might try setting `markersize=3` or similar\n",
    "      when you are plotting the gages, so that it's \n",
    "      easier to see them.\n"
   ]
  },
  {
   "cell_type": "code",
   "execution_count": null,
   "metadata": {},
   "outputs": [],
   "source": [
    "# TODO: Your code here"
   ]
  },
  {
   "cell_type": "markdown",
   "metadata": {},
   "source": [
    "# Step 5: \n",
    "I also gave you a dataset of watershed\n",
    "boundaries (called HUCs, for hydrologic unit code).\n",
    "I gave you the \"level 8\" units, where a smaller unit\n",
    "level means a larger spatial aggregation, and a larger\n",
    "code is more fine-scaled. This is stored in the variable \n",
    "`huc8`. \n",
    "\n",
    "Plot the huc8 boundaries in \"lightgrey\", then plot \n",
    "the outline of Arizona over the top of it. Finally\n",
    "plot the gages contained in Arizona again as \"crimson\"\n",
    "points.\n",
    "\n",
    "NOTE: To get a transparent \"face color\" for the Arizona\n",
    "      outline set `color=\"none\"` and `edgecolor=\"black\"`\n",
    "      inside of your second plot command.\n"
   ]
  },
  {
   "cell_type": "code",
   "execution_count": null,
   "metadata": {},
   "outputs": [],
   "source": [
    "# TODO: Your code here"
   ]
  },
  {
   "cell_type": "markdown",
   "metadata": {},
   "source": [
    "# Step 6:  \n",
    "For this step, I want you to plot the location\n",
    "of the Verde river gage that we've been using as an example. \n",
    "\n",
    "To do this, first find the row where # the `'STANAME'` \n",
    "column of `az_gages` is equal to # the `name` variable. \n",
    "Then use that information to select out only the Verde\n",
    "river gage into the variable `verde_gage`.\n",
    "\n",
    "The resulting plot should put a big star where the \n",
    "gage location is. All other gages in Arizona will\n",
    "still appear as dots."
   ]
  },
  {
   "cell_type": "code",
   "execution_count": null,
   "metadata": {},
   "outputs": [],
   "source": [
    "name = \"VERDE RIVER NEAR CAMP VERDE, AZ\"\n",
    "# TODO: Your code here\n",
    "is_the_gage = None\n",
    "verde_gage = None\n",
    "\n",
    "# Plotting code, you should not have to modify\n",
    "ax = huc8.plot(color='lightgrey')\n",
    "az.plot(ax=ax, edgecolor='black', color=\"none\")\n",
    "az_gages.plot(ax=ax, color='rosybrown', markersize=3)\n",
    "verde_gage.plot(ax=ax, color='crimson', marker='*', markersize=100)"
   ]
  },
  {
   "cell_type": "markdown",
   "metadata": {},
   "source": [
    "# Step 7: \n",
    "Now let's combine this with our knowledge\n",
    "about downloading streamflow data from USGS!\n",
    "\n",
    "I've provided you with the functions for downloading\n",
    "data that we've used in the past. You don't have to\n",
    "do anything for this step.\n"
   ]
  },
  {
   "cell_type": "code",
   "execution_count": null,
   "metadata": {},
   "outputs": [],
   "source": [
    "\n",
    "def create_usgs_url(site_no, begin_date, end_date):\n",
    "    return (\n",
    "        f'https://waterdata.usgs.gov/nwis/dv?'\n",
    "        f'cb_00060=on&format=rdb&referred_module=sw&'\n",
    "        f'site_no={site_no}&'\n",
    "        f'begin_date={begin_date}&'\n",
    "        f'end_date={end_date}'\n",
    "    )\n",
    "\n",
    "def open_usgs_data(site, begin_date, end_date):\n",
    "    url = create_usgs_url((site), begin_date, end_date)\n",
    "    response = urllib.request.urlopen(url)\n",
    "    df = pd.read_table(\n",
    "        response,\n",
    "        comment='#',\n",
    "        skipfooter=1,\n",
    "        delim_whitespace=True,\n",
    "        names=['agency', 'site', 'date', 'streamflow', 'quality_flag'],\n",
    "        index_col=2,\n",
    "        parse_dates=True\n",
    "    ).iloc[2:]\n",
    "\n",
    "    # Now convert the streamflow data to floats and\n",
    "    # the index to datetimes. When processing raw data\n",
    "    # it's common to have to do some extra postprocessing\n",
    "    df['streamflow'] = df['streamflow'].astype(np.float64)\n",
    "    df.index = pd.DatetimeIndex(df.index)\n",
    "    return df\n"
   ]
  },
  {
   "cell_type": "markdown",
   "metadata": {},
   "source": [
    "# Step 8: \n",
    "Now pull out the site id from the `verde_gage`\n",
    "variable. This is contained in the `'STAID'` column, which\n",
    "stands for \"Station ID\". Put this into the variable \n",
    "`station_id`\n",
    "\n",
    "Success on this one should just print out the first 5\n",
    "streamflow values for the Verde river near Campe Verde.\n"
   ]
  },
  {
   "cell_type": "code",
   "execution_count": null,
   "metadata": {},
   "outputs": [],
   "source": [
    "begin_date = '2012-10-01'\n",
    "end_date = '2024-09-30'\n",
    "\n",
    "# TODO: Your code here\n",
    "station_id = None\n",
    "\n",
    "site = station_id.values[0]\n",
    "verde_df = open_usgs_data(site, begin_date, end_date)\n",
    "verde_df.head()"
   ]
  },
  {
   "cell_type": "markdown",
   "metadata": {},
   "source": [
    "# Step 9: \n",
    "Now try pulling out a different gage location\n",
    "using it's name and download the USGS data for the \n",
    "same time period as the `verde_df`. Put this one in\n",
    "`other_gage_df`. Compare the two location's mean\n",
    "streamflows by printing them out."
   ]
  },
  {
   "cell_type": "code",
   "execution_count": null,
   "metadata": {},
   "outputs": [],
   "source": [
    "# TODO: Your code here"
   ]
  },
  {
   "cell_type": "markdown",
   "metadata": {},
   "source": [
    "# Step 10: \n",
    "From our original plots of the spatial\n",
    "distribution of gages it was clear that surface\n",
    "water access in Arizona is uneven. For this \n",
    "exercise I want you to count the number of gages\n",
    "in Arizona for each of the HUC8 boundaries. \n",
    "\n",
    "To do this you'll have to iterate over the `huc8`\n",
    "variable using the `huc8.iterrows()` function, which\n",
    "basically loops over each row of the dataframe. \n",
    "Instead of giving you just the row, it also gives \n",
    "you the row column, which is why I have put `i, huc`\n",
    "in the for loop. `i` will keep track of the row number\n",
    "and `huc` will be the actual data from the row.\n",
    "\n",
    "I've got you started on the loop, but your next step\n",
    "is to \"clip\" from `az_gages` the \"geometry\" from the \n",
    "`huc`. Then, count how many gages are in this selection\n",
    "by using the `len` function. Append the result of this\n",
    "to the `number_gages_in_huc` list.\n",
    "\n",
    "Finally, add a new column to the `huc8` dataframe called\n",
    "`'number_gauges'` and set it equal to the `number_gages_in_huc`\n"
   ]
  },
  {
   "cell_type": "code",
   "execution_count": null,
   "metadata": {},
   "outputs": [],
   "source": [
    "number_gages_in_huc = []\n",
    "for i, huc in huc8.iterrows():\n",
    "    # TODO: Your code here\n",
    "    clipped_gages = None\n",
    "    n_gages = None\n",
    "    number_gages_in_huc.append(n_gages)\n",
    "\n",
    "# TODO: Your code here"
   ]
  },
  {
   "cell_type": "markdown",
   "metadata": {},
   "source": [
    "# Step 11: \n",
    "Finally, plot the number of gages in\n",
    "each HUC - and don't forget to set `add_legend=True`!\n",
    "Use the colormap \"Blues\", and also plot the Arizona\n",
    "outline on top\n"
   ]
  },
  {
   "cell_type": "code",
   "execution_count": null,
   "metadata": {},
   "outputs": [],
   "source": [
    "# TODO: Your code here"
   ]
  },
  {
   "cell_type": "markdown",
   "metadata": {},
   "source": [
    "# CONGRATULATIONS, you're finished!"
   ]
  }
 ],
 "metadata": {
  "language_info": {
   "name": "python"
  }
 },
 "nbformat": 4,
 "nbformat_minor": 2
}
