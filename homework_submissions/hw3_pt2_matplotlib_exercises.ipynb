{
 "cells": [
  {
   "cell_type": "markdown",
   "metadata": {},
   "source": [
    "#### 1. Import numpy as matplotlib.pyplot with the standard names"
   ]
  },
  {
   "cell_type": "code",
   "execution_count": 1,
   "metadata": {},
   "outputs": [],
   "source": [
    "# Your code here"
   ]
  },
  {
   "cell_type": "markdown",
   "metadata": {},
   "source": [
    "#### 2. Create two arrays, x and y. Make x go from 0 to $2\\pi$ with 100 values. Make y be the sine of x"
   ]
  },
  {
   "cell_type": "code",
   "execution_count": 2,
   "metadata": {},
   "outputs": [],
   "source": [
    "# Your code here"
   ]
  },
  {
   "cell_type": "markdown",
   "metadata": {},
   "source": [
    "#### 3. Make a simple line plot of x and y"
   ]
  },
  {
   "cell_type": "code",
   "execution_count": null,
   "metadata": {},
   "outputs": [],
   "source": [
    "# Your code here"
   ]
  },
  {
   "cell_type": "markdown",
   "metadata": {},
   "source": [
    "#### 4. Make a new variable, z, which is the cosine of x. Then plot (x, y) and (x, z) as line plots"
   ]
  },
  {
   "cell_type": "code",
   "execution_count": 1,
   "metadata": {},
   "outputs": [],
   "source": [
    "# Your code here"
   ]
  },
  {
   "cell_type": "markdown",
   "metadata": {},
   "source": [
    "#### 5. Plot (y, z) - but before doing so, think about what you should expect to see"
   ]
  },
  {
   "cell_type": "code",
   "execution_count": 2,
   "metadata": {},
   "outputs": [],
   "source": [
    "# Your code here"
   ]
  },
  {
   "cell_type": "markdown",
   "metadata": {},
   "source": [
    "#### 6: Make x a random sample of 300 points from a uniform distribution and plot a histogram of the data"
   ]
  },
  {
   "cell_type": "code",
   "execution_count": 3,
   "metadata": {},
   "outputs": [],
   "source": [
    "# Your code here"
   ]
  },
  {
   "cell_type": "markdown",
   "metadata": {},
   "source": [
    "#### 7: Now repeat the random sampling 1000 times, record the mean of each of those samples, and plot a histogram of the means. Again, before approaching, think about what you expect to see"
   ]
  },
  {
   "cell_type": "code",
   "execution_count": 4,
   "metadata": {},
   "outputs": [],
   "source": [
    "# Your code here"
   ]
  },
  {
   "cell_type": "markdown",
   "metadata": {},
   "source": [
    "#### 8. Let's try making some subplots. This will be a multi-parter, see the code below\n",
    "\n",
    "Note: This one is going to be a bit harder and more complex than anything we've done yet, take your time and work step by step."
   ]
  },
  {
   "cell_type": "code",
   "execution_count": null,
   "metadata": {},
   "outputs": [],
   "source": [
    "# Step 1:\n",
    "# First, create a 2 plots, side by side, set figsize=(10, 5) when creating the subplots\n",
    "# TODO: Your code here\n",
    "\n",
    "# Now we are going to create 1000 different \"random walks\". Each random walk will have 300 steps\n",
    "number_walks = 1000\n",
    "steps_per_walk = 300\n",
    "\n",
    "all_walks = []\n",
    "for i in range(number_walks):\n",
    "    # I will give you this part for free, basically saying go up or down at each step\n",
    "    steps = np.random.choice([-1, 1], size=steps_per_walk)\n",
    "\n",
    "    # Step 2:\n",
    "    # Now you need to calculate the \"cumulative sum\" of the walk\n",
    "    # TODO: Your code here\n",
    "\n",
    "    # Step 3:\n",
    "    # And add it to the list of all walks\n",
    "    # TODO: Your code here\n",
    "\n",
    "# Step 4: \n",
    "# Plot all of these random walks on the first plot, use color='grey', alpha=0.1\n",
    "left_axis = None # TODO - get the left axis\n",
    "for walk in all_walks:\n",
    "    # TODO: Your code here, note remove the \"pass\" when finished\n",
    "    pass\n",
    "\n",
    "# Step 5: \n",
    "# On the second plot, plot a histogram of all the final locations\n",
    "final_locations = None # TODO - get the end locations for each walk\n",
    "right_axis = None # TODO - get the right axis\n",
    "\n",
    "# Step 6:\n",
    "# Finallly, make sure to set some titles on the plots\n",
    "# Use \"Random Walks\" as the title for the first plot\n",
    "# Use \"Final Locations\" as the title for the second plot\n",
    "# TODO: Your code here"
   ]
  },
  {
   "cell_type": "code",
   "execution_count": null,
   "metadata": {},
   "outputs": [],
   "source": []
  }
 ],
 "metadata": {
  "kernelspec": {
   "display_name": "init",
   "language": "python",
   "name": "python3"
  },
  "language_info": {
   "codemirror_mode": {
    "name": "ipython",
    "version": 3
   },
   "file_extension": ".py",
   "mimetype": "text/x-python",
   "name": "python",
   "nbconvert_exporter": "python",
   "pygments_lexer": "ipython3",
   "version": "3.10.13"
  }
 },
 "nbformat": 4,
 "nbformat_minor": 2
}
