{
 "cells": [
  {
   "cell_type": "markdown",
   "metadata": {},
   "source": [
    "# Welcome to the first xarray homework assignment.\n",
    "For this assignment you'll learn some of the basics of using xarray on a real dataset. "
   ]
  },
  {
   "cell_type": "code",
   "execution_count": null,
   "metadata": {},
   "outputs": [],
   "source": [
    "import os\n",
    "import xarray as xr\n",
    "import numpy as np\n",
    "import matplotlib.pyplot as plt\n",
    "from urllib.request import urlretrieve"
   ]
  },
  {
   "cell_type": "markdown",
   "metadata": {},
   "source": [
    "\n",
    "# Step 0. \n",
    "For this assignment we'll be working with some\n",
    "GridMET data. More information about it can be \n",
    "found here: https://www.climatologylab.org/gridmet.html\n",
    "\n",
    "To get started, we'll need to download some data.\n",
    "The data is split into separate files for each variable\n",
    "and year. Set the year to 2020, and create a list\n",
    "for variables which contains \"pet\", \"srad\", and \"vpd\".\n",
    "We'll see what those are later.\n",
    "\n",
    "Next, write a for loop which iterates over the\n",
    "`variables_to_download`, and calls the supplied \n",
    "function # `download_gridmet_variable` given the \n",
    "variable name # and year to download. In your for \n",
    "loop, make sure to \"append\" the name of the \n",
    "downloaded file to the `downloaded_files` list.\n"
   ]
  },
  {
   "cell_type": "code",
   "execution_count": null,
   "metadata": {},
   "outputs": [],
   "source": [
    "def download_gridmet_variable(variable, year):\n",
    "    base_url = 'https://www.northwestknowledge.net/metdata/data'\n",
    "    filename = f'{variable}_{year}.nc'\n",
    "    # Only download if the file doesn't exist\n",
    "    if not os.path.exists(filename):\n",
    "        print(f'Downloading {variable} for {year}...')\n",
    "        urlretrieve(f'{base_url}/{filename}', filename)\n",
    "    return filename\n",
    "\n",
    "downloaded_files = []\n",
    "\n",
    "#TODO: Your code here\n",
    "year = None\n",
    "variables_to_download = None\n",
    "\n",
    "print('Done downloading data!')\n",
    "print(downloaded_files)\n"
   ]
  },
  {
   "cell_type": "markdown",
   "metadata": {},
   "source": [
    "# Step 1:\n",
    "Use the `xr.open_mfdataset` function to open\n",
    "all of the files that were just downloaded.\n",
    "`mfdataset` is an abbreviation of \"multi file\n",
    "dataset\", which means you can pass it the list\n",
    "of downloaded files directly and xarray will \n",
    "figure out the rest. Once you've got it open\n",
    "just display the result and look around at\n",
    "what's in the data.\n"
   ]
  },
  {
   "cell_type": "code",
   "execution_count": null,
   "metadata": {},
   "outputs": [],
   "source": [
    "# TODO: Your code here\n",
    "ds = None\n",
    "ds\n"
   ]
  },
  {
   "cell_type": "markdown",
   "metadata": {},
   "source": [
    "# Step 2:\n",
    "Note there is a \"CRS\" coordinate in the \n",
    "dataset, but none of the variables rely\n",
    "on it. For the sake of cleaning things\n",
    "up, go ahead and \"drop\" it from the\n",
    "dataset.\n"
   ]
  },
  {
   "cell_type": "code",
   "execution_count": null,
   "metadata": {},
   "outputs": [],
   "source": [
    "#TODO: Your code here\n",
    "ds = None\n",
    "ds"
   ]
  },
  {
   "cell_type": "markdown",
   "metadata": {},
   "source": [
    "# Step 3:\n",
    "Before getting to far into working with the\n",
    "data, let's first look at where it came from.\n",
    "To do this, pull out the attributes into an \n",
    "`attrs` variable. Then, pull out who the \"author\"\n",
    "of the dataset is and print that out.\n"
   ]
  },
  {
   "cell_type": "code",
   "execution_count": null,
   "metadata": {},
   "outputs": [],
   "source": [
    "\n",
    "# TODO: Your code here\n",
    "attrs = None\n",
    "print(None)\n"
   ]
  },
  {
   "cell_type": "markdown",
   "metadata": {},
   "source": [
    "# Step 4:\n",
    "You should also generally familiarize yourself\n",
    "with the actual data variables before trying to\n",
    "do any analysis with a dataset, so let's look at\n",
    "that as well.\n",
    "To do so, look at each variable's \"description\"\n",
    "and \"units\" in the variables attributes. \n",
    "Print them out below.\n"
   ]
  },
  {
   "cell_type": "code",
   "execution_count": null,
   "metadata": {},
   "outputs": [],
   "source": [
    "\n",
    "#TODO: Your code here\n",
    "for var in ds:\n",
    "    description = None\n",
    "    units = None\n",
    "    print(description, units)\n",
    "\n"
   ]
  },
  {
   "cell_type": "markdown",
   "metadata": {},
   "source": [
    "# Step 5:\n",
    "Just select out the first `day` of the data\n",
    "and assign it to the `first_ds` variable\n"
   ]
  },
  {
   "cell_type": "code",
   "execution_count": null,
   "metadata": {},
   "outputs": [],
   "source": [
    "# TODO: Your code here\n",
    "first_ds = None"
   ]
  },
  {
   "cell_type": "markdown",
   "metadata": {},
   "source": [
    "# Step 6:\n",
    "Now that you've got a single timestep out\n",
    "make a spatial plot of the variable \n",
    "\"mean_vapor_pressure_deficit\".\n"
   ]
  },
  {
   "cell_type": "code",
   "execution_count": null,
   "metadata": {},
   "outputs": [],
   "source": [
    "#TODO: Your code here"
   ]
  },
  {
   "cell_type": "markdown",
   "metadata": {},
   "source": [
    "# Step 7:\n",
    "Similarly, make a spatial plot of the variable\n",
    "\"potential_evapotranspiration\".\n"
   ]
  },
  {
   "cell_type": "code",
   "execution_count": null,
   "metadata": {},
   "outputs": [],
   "source": [
    "#TODO: Your code here"
   ]
  },
  {
   "cell_type": "markdown",
   "metadata": {},
   "source": [
    "# Step 8:\n",
    "Select the first 30 entries of latitude \n",
    "and 20th to 40th entries of longitude\n",
    "from the full `ds`\n"
   ]
  },
  {
   "cell_type": "code",
   "execution_count": null,
   "metadata": {},
   "outputs": [],
   "source": [
    "#TODO: Your code here\n",
    "subset_ds = None\n",
    "subset_ds"
   ]
  },
  {
   "cell_type": "markdown",
   "metadata": {},
   "source": [
    "# Step 9:\n",
    "With this new dataset pared down, \n",
    "take a spatial average. That is\n",
    "take the \"mean\" across the \"lat\"\n",
    "and \"lon\" dimensions.\n"
   ]
  },
  {
   "cell_type": "code",
   "execution_count": null,
   "metadata": {},
   "outputs": [],
   "source": [
    "# TODO: Your code here\n",
    "spatial_mean_ds = None\n",
    "spatial_mean_ds"
   ]
  },
  {
   "cell_type": "markdown",
   "metadata": {},
   "source": [
    "# Step 10:\n",
    "Now make a plot with 2 axes. On the firsrt\n",
    "axis plot the \"potential_evapotranspration\"\n",
    "and on the second plot the \"mean_vapor_pressure_deficit\"\n",
    "Do these look correlated to you?\n"
   ]
  },
  {
   "cell_type": "code",
   "execution_count": null,
   "metadata": {},
   "outputs": [],
   "source": [
    "fig, axes = plt.subplots(2, 1, figsize=(12, 8))\n",
    "\n",
    "# TODO: Your code here"
   ]
  },
  {
   "cell_type": "markdown",
   "metadata": {},
   "source": [
    "# Step 11:\n",
    "For a better look at whether they're correlated,\n",
    "make a scatter plot with the `spatial_mean_ds.plot.scatter`\n",
    "function. Note this works very similarly to the pandas\n",
    "version so use that background to get started.\n"
   ]
  },
  {
   "cell_type": "code",
   "execution_count": null,
   "metadata": {},
   "outputs": [],
   "source": [
    "# TODO: Your code here"
   ]
  },
  {
   "cell_type": "markdown",
   "metadata": {},
   "source": [
    "# Step 12:\n",
    "We can actually use numpy functions directly here\n",
    "to actually quantify this now. Use the `np.corrcoef`\n",
    "function to calculate the correlation matrix between\n",
    "the potential ET and vapor pressure deficit.\n"
   ]
  },
  {
   "cell_type": "code",
   "execution_count": null,
   "metadata": {},
   "outputs": [],
   "source": [
    "# TODO: Your code here\n",
    "np.corrcoef(\n",
    "    None,\n",
    "    None \n",
    ")"
   ]
  },
  {
   "cell_type": "markdown",
   "metadata": {},
   "source": [
    "# Step 13:\n",
    "We can do one better here actually, but to save \n",
    "some time on computation let's first \"coarsen\"\n",
    "the total dataset. To do this, you will have to\n",
    "specify a dictionary which maps between a dimension\n",
    "and the number of cells along that dimension you want\n",
    "to group together. Basically, we're just trying to\n",
    "resample this data to be a lower spatial resolution.\n",
    "For this exercise coarsen both the 'lat' and 'lon'\n",
    "dimensions by 4\n",
    "\n",
    "Note that the call to `coarsen` has a keyword,\n",
    "`boundary='trim'`. This is because the domain is not\n",
    "perfectly divisible by 4, so we just throw away any\n",
    "extra grid cells.\n"
   ]
  },
  {
   "cell_type": "code",
   "execution_count": null,
   "metadata": {},
   "outputs": [],
   "source": [
    "#TODO: Your code here\n",
    "coarse_amount = None\n",
    "\n",
    "coarse_ds = ds.coarsen(\n",
    "    coarse_amount, \n",
    "    boundary='trim'\n",
    ").mean()\n",
    "coarse_ds\n"
   ]
  },
  {
   "cell_type": "markdown",
   "metadata": {},
   "source": [
    "# Step 14:\n",
    "Now with the coarsened dataset let's use the\n",
    "`xr.corr` function to correlate the same variables\n",
    "over the \"day\", \"dimension\". \n"
   ]
  },
  {
   "cell_type": "code",
   "execution_count": null,
   "metadata": {},
   "outputs": [],
   "source": [
    "# TODO: Your code here\n",
    "correlation = None\n",
    "correlation"
   ]
  },
  {
   "cell_type": "markdown",
   "metadata": {},
   "source": [
    "# Step 15:\n",
    "Now plot this. Note that this step will take \n",
    "some time. This is because xarray is \"lazy\"\n",
    "in that it never actually computed the correlation\n",
    "until it was needed. This can be confusing at first,\n",
    "but has some very powerful implications for filtering\n",
    "and processing data in parallel. We won't be getting\n",
    "very into this for the course, but you can read more\n",
    "here: \n",
    "https://xarray.pydata.org/en/v2022.11.0/user-guide/dask.html\n",
    "\n",
    "Anyhow, this should compute relatively quickly. Where\n",
    "do these variables tend to be decoupled?\n"
   ]
  },
  {
   "cell_type": "code",
   "execution_count": null,
   "metadata": {},
   "outputs": [],
   "source": [
    "# TODO: Your code here"
   ]
  },
  {
   "cell_type": "code",
   "execution_count": null,
   "metadata": {},
   "outputs": [],
   "source": [
    "\n",
    "\n",
    "# %%\n",
    "# Congratulations that's it for this assignment!\n",
    "# Go ahead and submit your completed script to \n",
    "# GitHub. For the second part of"
   ]
  }
 ],
 "metadata": {
  "language_info": {
   "name": "python"
  }
 },
 "nbformat": 4,
 "nbformat_minor": 2
}
